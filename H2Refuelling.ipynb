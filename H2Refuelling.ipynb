{
  "cells": [
    {
      "cell_type": "markdown",
      "metadata": {},
      "source": [
        "## Hydrogen Refueling Station Network"
      ]
    },
    {
      "cell_type": "markdown",
      "metadata": {},
      "source": [
        "#### Imports"
      ]
    },
    {
      "cell_type": "code",
      "execution_count": 6,
      "metadata": {
        "id": "ozgIb5pODoW9"
      },
      "outputs": [],
      "source": [
        "import numpy as np\n",
        "import matplotlib.pyplot as plt\n",
        "import pandas as pd\n",
        "import sklearn as sk #regression\n",
        "#import chempy as che #chemistry\n",
        "from scipy.optimize import fsolve\n",
        "#import pyomo as pyo #optimization\n",
        "#import chemicals as cls #chemical properties\n",
        "#import ht #heat transfer library\n",
        "\n",
        "\n",
        "# Python HRS - https://www.youtube.com/watch?v=3g301ybQKos\n",
        "\n",
        "#inputs\n",
        "#ambient (P,T), H2 (P,T), energy (kW), Water (kg/s, P, T), H2 (flowrate), controller variables\n",
        "\n",
        "#outputs\n",
        "#H2 (production rate), oxygen (production rate), fluid (P,T)"
      ]
    },
    {
      "cell_type": "markdown",
      "metadata": {},
      "source": [
        "#### PEM"
      ]
    },
    {
      "cell_type": "code",
      "execution_count": null,
      "metadata": {
        "colab": {
          "base_uri": "https://localhost:8080/"
        },
        "id": "76XY8m8LEI0h",
        "outputId": "ef8a904a-7256-4e33-888c-3b7d4201b7dd"
      },
      "outputs": [],
      "source": [
        "#def PEM (Gordon, Vincent)\n",
        "#Chemical EQN: H2O -> 1/2 O2 + H2\n",
        "#Nernst EQN, Faraday's Law, Efficiency\n",
        "def calculate_output_PEM(I_in, V_in, H2O_in, Energy_in, H2O_T, H2O_P, eff, R=8.314):\n",
        "    dH2_dT = eff*I_in/(2*F_const) #Hydrogen production mol/s\n",
        "    dO2_dT = dH2_dT/2 #Oxygen production mol/s\n",
        "    dH2O_dT = H2O_in - dH2_dT #Water production mol/s\n",
        "\n",
        "    #cell temperature (vary between -20C to 40C)\n",
        "    Q_net = (I_in**2)*Res_e*t_op - 285830*dH2O_dT #electrolyte resistance heat - heat of reaction (endo)\n",
        "    del_T = Q_net/(H2O_spec_heat*H2O_in*t_op) #per day\n",
        "    Cell_T = Cell_T + del_T #per day\n",
        "\n",
        "    #cell voltage\n",
        "    #E_cell = 1.23-0.0009*(Cell_T-298)+(R*Cell_T/(4*F_const))*np.log((Pv_O2*(Pv_H2)**2)/Pv_H2O) #https://core.ac.uk/download/pdf/52394289.pdf\n",
        "    I_den = I_in/Area\n",
        "    V_cell = 1.23-0.18545*np.log(I_den)-0.10935*(I_den)-(-3.67397)*np.exp(-1.45761e-06)-0.18545*np.log(P/P_O2) #empirical formula from lab A1 Dylan -> can use non ideal gas to find partial P of O2\n",
        "    Pwr_Req = V_cell * I_in #Power requirement\n",
        "\n",
        "    return dH2_dT,dO2_dT,dH2O_dT,Cell_T,Pwr_Req\n",
        "\n",
        "MW_H2 = 1.00794 #Molecular Weight of H2\n",
        "MW_O2 = 31.9988 #Molecular Weight of O2\n",
        "MW_H2O = 18.01528 #Molecular Weight of H2O\n",
        "F_const = 96485.31 #faraday's constant\n",
        "Cell_T = 293.15 #ambient cell temperature at start\n",
        "t_op = 86400 #operation time in seconds of a day\n",
        "Res_e = 1 #resistance of electrolyte\n",
        "H2O_spec_heat = 4.184 #kj/kgK\n",
        "PEM_eff = input(\"What is the efficiency %?: \") #75% according to H-TEC systems\n",
        "OutP_H2 = 25 #Hydrogen output pressure (bar)\n"
      ]
    },
    {
      "cell_type": "markdown",
      "metadata": {},
      "source": [
        "#### Compressor (output 200 bar)"
      ]
    },
    {
      "cell_type": "code",
      "execution_count": null,
      "metadata": {
        "id": "L-II7FHyELa2"
      },
      "outputs": [],
      "source": [
        "#def compressor to 200 bar (Rayan, Anand)\n",
        "#RK equation https://chemicalprojects.wordpress.com/2014/07/06/equations-of-state/\n",
        "#assumed 50°C temp for hydrogen\n",
        "def calculate_rk_constants(Tc_hydrogen, Pc_hydrogen, R=8.314):\n",
        "    \"\"\"\n",
        "    Calculate Redlich-Kwong constants 'a' and 'b' from critical temperature and pressure.\n",
        "\n",
        "    Parameters:\n",
        "    - Tc: Critical temperature in Kelvin\n",
        "    - Pc: Critical pressure in Pascals\n",
        "    - R: Gas constant in J/(mol K)\n",
        "\n",
        "    Returns:\n",
        "    - a: Redlich-Kwong constant 'a' in (Pa m^6/mol^2)\n",
        "    - b: Redlich-Kwong constant 'b' in (m^3/mol)\n",
        "    \"\"\"\n",
        "    a = 0.427 * ((R**2 * Tc_hydrogen**2.5) / Pc_hydrogen)\n",
        "    b = 0.08664 * (R * Tc_hydrogen / Pc_hydrogen)\n",
        "    return a, b\n",
        "def calculate_compressibility_factor(P, V_hydrogen, T, R=8.314):\n",
        "    \"\"\"\n",
        "    Calculate compressibility factor using the Redlich-Kwong equation.\n",
        "\n",
        "    Parameters:\n",
        "    - P: Pressure in Pascals\n",
        "    - V: Molar volume in m^3/mol\n",
        "    - T: Temperature in Kelvin\n",
        "    - R: Gas constant in J/(mol K)\n",
        "\n",
        "    Returns:\n",
        "    - Z: Compressibility factor\n",
        "    \"\"\"\n",
        "    virialB = 14.87        #assumed 50°C temp for hydrogen https://www.ncbi.nlm.nih.gov/pmc/articles/PMC5325166/\n",
        "    virialC = 340          #assumed 50°C temp for hydrogen\n",
        "    Bprime = virialB/(R*T)\n",
        "    Cprime = (virialC-Bprime**2)/(R*T)**2\n",
        "    #Z = 1 + Bprime*P + P**2*Cprime\n",
        "    Z = (P*V_hydrogen)/(R*T)\n",
        "    return Z"
      ]
    },
    {
      "cell_type": "code",
      "execution_count": null,
      "metadata": {},
      "outputs": [],
      "source": [
        "R_h2 = 4.124 # Gas constant for hydrogen, J/(g K)\n",
        "Cp_h2 = 14.3 # Specific heat capacity for hydrogen, J/(g K)\n",
        "def compressor_outputs(T1,P1,P2,eta):\n",
        "    T2 = T1+(T1/eta)*((P2/P1)**(R_h2/Cp_h2)-1) # CHE 330 Lecture 7 Slide 25 - Assumes ideal gas behavior\n",
        "    Ws = (Cp_h2*T1/eta)*((P2/P1)**(R_h2/Cp_h2)-1) # CHE 330 Lecture 7 Slide 25 - Assumes ideal gas behavior\n",
        "    return T2,Ws\n",
        "T1 = 30+273.15 # Hydrogen inlet temperature\n",
        "P2 = 200 # Desired Hydrogen outlet pressure, bar \n",
        "comp_eff = 0.75 # Compressor efficiency (can be 0.7-0.8)\n",
        "T2,Ws = compressor_outputs(T1,OutP_H2,P2,comp_eff)"
      ]
    },
    {
      "cell_type": "code",
      "execution_count": null,
      "metadata": {
        "colab": {
          "base_uri": "https://localhost:8080/"
        },
        "id": "VrVvmETZLBvq",
        "outputId": "a4173b39-71d3-4c82-f2c7-7422e2b804e1"
      },
      "outputs": [],
      "source": [
        "# Given conditions\n",
        "T_hydrogen = 273.15 + 45  # Inlet to compressor (Temperature in Kelvin)\n",
        "Tc_hydrogen = 33            # Critical temperature in Kelvin\n",
        "Pc_hydrogen = 189*6895      # Critical Pressure in Pa\n",
        "R_hydrogen = 4124  # Gas constant for hydrogen, J/(mol K)\n",
        "eta_isentropic_assumed = 0.8  # Assume isentropic efficiency: can be 0.7 to 0.8\n",
        "P_hydrogen = 25*100000     # Inlet Pressure in Pa (25 bar)\n",
        "P_hydrogenatm = 25/1.013     # Inlet Pressure in atm\n",
        "R = 0.08206 # L * atm / mol * K\n",
        "V_hydrogen = ((T_hydrogen*R)/(P_hydrogenatm))/1000     # Molar volume in m^3/mol\n",
        "\n",
        "# Calculate RK constants for hydrogen\n",
        "a_hydrogen, b_hydrogen = calculate_rk_constants(Tc_hydrogen, Pc_hydrogen)\n",
        "\n",
        "# Calculate compressibility factor\n",
        "Z_hydrogen = calculate_compressibility_factor(P_hydrogen, V_hydrogen, T_hydrogen)\n",
        "\n",
        "# compressor outputs\n",
        "#T_output_comp1, P_output_comp1 = compressour_output(T_hydrogen, OutP_H2*100000, 200*100000, R_hydrogen, V_H2, eta_isentropic_assumed,Tc_hydrogen, Pc_hydrogen) # what would be desired outlet hydrogen pressure? 200 bar?\n",
        "\n",
        "print(f\"Compressibility Factor for Hydrogen (Z): {Z_hydrogen}\")\n",
        "print(f\"Redlich-Kwong constants for Hydrogen - a: {a_hydrogen}, b: {b_hydrogen}\")\n",
        "#print(f\"Compressor outlet conditions - T: {T_output_comp1}, P: {P_output_comp1}\")"
      ]
    },
    {
      "cell_type": "markdown",
      "metadata": {},
      "source": [
        "#### Transportation"
      ]
    },
    {
      "cell_type": "code",
      "execution_count": null,
      "metadata": {
        "id": "J4l-thR5EPgK"
      },
      "outputs": [],
      "source": [
        "#compressor to transport ratio split"
      ]
    },
    {
      "cell_type": "code",
      "execution_count": null,
      "metadata": {
        "id": "1xQH-7wvFTrR"
      },
      "outputs": [],
      "source": [
        "#Transportation"
      ]
    },
    {
      "cell_type": "markdown",
      "metadata": {},
      "source": [
        "#### Cascading pressure storage system"
      ]
    },
    {
      "cell_type": "markdown",
      "metadata": {},
      "source": [
        "Inputs:  \n",
        "Number of vehicles  \n",
        "Initial hydrogen amount in vehicle's tank  \n",
        "Vehicle tank capacity  \n",
        "Hydrogen fill rate (can fix at 0.6kg H2/min [from external report] for now and then optimize later based on desired filling time?)  \n",
        "\n",
        "Calculations:  \n",
        "Initial tank temperature  \n",
        "Initial tank pressure  \n",
        "Transient tank temperature and pressure each minute (based on hydrogen fill rate)  \n",
        "\n",
        "Assumptions:  \n",
        "Hydrogen in pressure vessels > hydrogen required per day"
      ]
    },
    {
      "cell_type": "code",
      "execution_count": null,
      "metadata": {},
      "outputs": [],
      "source": []
    },
    {
      "cell_type": "code",
      "execution_count": 9,
      "metadata": {
        "id": "9EzB8vspET5L"
      },
      "outputs": [
        {
          "name": "stderr",
          "output_type": "stream",
          "text": [
            "c:\\Users\\Gordon\\anaconda3\\lib\\site-packages\\scipy\\optimize\\minpack.py:175: RuntimeWarning: The iteration is not making good progress, as measured by the \n",
            "  improvement from the last ten iterations.\n",
            "  warnings.warn(msg, RuntimeWarning)\n"
          ]
        },
        {
          "data": {
            "image/png": "[encoded data removed]",
            "text/plain": [
              "<Figure size 864x576 with 3 Axes>"
            ]
          },
          "metadata": {
            "needs_background": "light"
          },
          "output_type": "display_data"
        }
      ],
      "source": [
        "#Cascading\n",
        "# Constants\n",
        "Number_of_vehicles = 150 #specified fleet size\n",
        "Initial_tank_amount = 0.1 #Litres of compressed H2\n",
        "vehicle_tank_mass_capacity = 80 #kg of compressed H2\n",
        "hydrogen_density = 0.08375\n",
        "vehicle_tank_volume_capacity = vehicle_tank_mass_capacity/hydrogen_density*1000 #Litres of compressed H2\n",
        "R = 8.314  # Ideal gas constant, J/(mol K)\n",
        "R_hydrogen = 4124  # Gas constant for hydrogen, J/(mol K)\n",
        "ambient_temperature = 20  # Ambient temperature, Celsius\n",
        "maximum_hydrogen_mass = 6.0  # Maximum mass of hydrogen in the tank, kg\n",
        "hydrogen_molar_mass = 2.01568 #kg/kmol molar mass fo hydrogen\n",
        "hydrogen_moles = maximum_hydrogen_mass/hydrogen_molar_mass*1000 #moles of hydrogen\n",
        "fill_rate = 0.6  # Hydrogen fill rate, kg/min\n",
        "\n",
        "# Function to calculate Redlich-Kwong parameters a and b for hydrogen\n",
        "def calculate_parameters(T, P):\n",
        "    a = 0.42748 * (R_hydrogen ** 2) * (T ** 2.5) / P\n",
        "    b = 0.08664 * R_hydrogen * T / P\n",
        "    return a, b\n",
        "\n",
        "# Function to calculate compressibility factor using Redlich-Kwong equation\n",
        "def compressibility_factor(T, P, V, a, b):\n",
        "    Z = (P * V) / (R * T) - b / V + (a / (V * (R * T) ** 0.5)) / V\n",
        "    return Z\n",
        "\n",
        "# Function to calculate the mass of hydrogen in the tank based on the ideal gas law\n",
        "def calculate_mass_ideal_gas(P, V, T):\n",
        "    return (P * V) / (R * T)\n",
        "\n",
        "# Function to calculate the pressure and temperature change in the tank during dispensing\n",
        "def calculate_tank_state(P, V, T, m_dispensed, a, b):\n",
        "    # Calculate new mass in the tank\n",
        "    m_current = calculate_mass_ideal_gas(P, V, T)\n",
        "    m_new = m_current - m_dispensed\n",
        "\n",
        "    # Calculate the new temperature using the Redlich-Kwong equation\n",
        "    T_new = fsolve(lambda T: m_new - calculate_mass_ideal_gas(P, V, T), T)[0]\n",
        "\n",
        "    # Calculate new volume using the ideal gas law\n",
        "    V_new = R * T_new / P\n",
        "\n",
        "    # Calculate new pressure using the Redlich-Kwong equation\n",
        "    P_new = fsolve(lambda P: compressibility_factor(T_new, P, V_new, a, b) - compressibility_factor(T, P, V, a, b), P)[0]\n",
        "\n",
        "    return P_new, V_new, T_new\n",
        "\n",
        "# Function to simulate the dispensing process\n",
        "def simulate_dispensing(P_initial, V_initial, T_initial, m_dispensed, a, b):\n",
        "    # Lists to store simulation results\n",
        "    time_points = []\n",
        "    pressure_points = []\n",
        "    temperature_points = []\n",
        "    mass_points = []\n",
        "\n",
        "    # Initial conditions\n",
        "    P_current = P_initial\n",
        "    V_current = V_initial\n",
        "    T_current = T_initial\n",
        "    m_current = calculate_mass_ideal_gas(P_initial, V_initial, T_initial)\n",
        "\n",
        "    # Simulation loop\n",
        "    while m_current < maximum_hydrogen_mass:\n",
        "        # Store current state\n",
        "        time_points.append(len(time_points))\n",
        "        pressure_points.append(P_current)\n",
        "        temperature_points.append(T_current)\n",
        "        mass_points.append(m_current)\n",
        "\n",
        "        # Calculate the amount of hydrogen to be dispensed\n",
        "        m_dispensed = min(fill_rate, maximum_hydrogen_mass - m_current)\n",
        "\n",
        "        # Calculate new state after dispensing\n",
        "        P_current, V_current, T_current = calculate_tank_state(P_current, V_current, T_current, m_dispensed, a, b)\n",
        "        m_current = calculate_mass_ideal_gas(P_current, V_current, T_current)\n",
        "\n",
        "    # Append final state\n",
        "    time_points.append(len(time_points))\n",
        "    pressure_points.append(P_current)\n",
        "    temperature_points.append(T_current)\n",
        "    mass_points.append(m_current)\n",
        "\n",
        "    return time_points, pressure_points, temperature_points, mass_points\n",
        "\n",
        "# Function to plot simulation results\n",
        "def plot_results(time, pressure, temperature, mass_dispensed):\n",
        "    plt.figure(figsize=(12, 8))\n",
        "\n",
        "    # Plot Pressure vs. Time\n",
        "    plt.subplot(3, 1, 1)\n",
        "    plt.plot(time, pressure, label='Pressure')\n",
        "    plt.xlabel('Time')\n",
        "    plt.ylabel('Pressure (Pa)')\n",
        "    plt.legend()\n",
        "    plt.title('Tank Pressure Over Time')\n",
        "\n",
        "    # Plot Temperature vs. Time\n",
        "    plt.subplot(3, 1, 2)\n",
        "    plt.plot(time, temperature, label='Temperature')\n",
        "    plt.xlabel('Time')\n",
        "    plt.ylabel('Temperature (Celsius)')\n",
        "    plt.legend()\n",
        "    plt.title('Tank Temperature Over Time')\n",
        "\n",
        "    # Plot Mass Dispensed vs. Time\n",
        "    plt.subplot(3, 1, 3)\n",
        "    plt.plot(time, mass_dispensed, label='Mass Dispensed')\n",
        "    plt.xlabel('Time')\n",
        "    plt.ylabel('Mass of Hydrogen (kg)')\n",
        "    plt.legend()\n",
        "    plt.title('Mass Dispensed Over Time')\n",
        "\n",
        "    plt.tight_layout()\n",
        "    plt.show()\n",
        "\n",
        "# Calculate initial tank pressure and temperature iteratively\n",
        "initial_temperature_guess = ambient_temperature\n",
        "initial_pressure_guess = hydrogen_moles * R * (initial_temperature_guess + 273) / \n",
        "\n",
        "a_initial, b_initial = calculate_parameters(initial_temperature_guess, initial_pressure_guess)\n",
        "\n",
        "# Simulate dispensing process\n",
        "time_points, pressure_points, temperature_points, mass_points = simulate_dispensing(\n",
        "    initial_pressure_guess, R * initial_temperature_guess / initial_pressure_guess, initial_temperature_guess,\n",
        "    0, a_initial, b_initial\n",
        ")\n",
        "\n",
        "# Plot simulation results\n",
        "plot_results(time_points, pressure_points, temperature_points, mass_points)\n"
      ]
    },
    {
      "cell_type": "markdown",
      "metadata": {},
      "source": [
        "#### Dispensing"
      ]
    },
    {
      "cell_type": "code",
      "execution_count": null,
      "metadata": {
        "id": "Nsn3gOfBEYK-"
      },
      "outputs": [],
      "source": [
        "#Heat Exchanger"
      ]
    },
    {
      "cell_type": "code",
      "execution_count": null,
      "metadata": {
        "id": "qAap6sGmEae1"
      },
      "outputs": [],
      "source": [
        "#Nozzle"
      ]
    },
    {
      "cell_type": "markdown",
      "metadata": {},
      "source": [
        "#### Individual fuel stations"
      ]
    },
    {
      "cell_type": "code",
      "execution_count": null,
      "metadata": {
        "id": "FRj0IUl1FXw5"
      },
      "outputs": [],
      "source": [
        "#Tilbury South"
      ]
    },
    {
      "cell_type": "code",
      "execution_count": null,
      "metadata": {
        "id": "98c9xpIkFYM6"
      },
      "outputs": [],
      "source": [
        "#Tilbury North"
      ]
    },
    {
      "cell_type": "code",
      "execution_count": null,
      "metadata": {
        "id": "i-TCb6dvFYVS"
      },
      "outputs": [],
      "source": [
        "#Ingersoll W"
      ]
    },
    {
      "cell_type": "code",
      "execution_count": null,
      "metadata": {
        "id": "ZbuLJ4M2FYa5"
      },
      "outputs": [],
      "source": [
        "#Woodstock E"
      ]
    },
    {
      "cell_type": "code",
      "execution_count": null,
      "metadata": {
        "id": "ZsA1zpMEFYdx"
      },
      "outputs": [],
      "source": [
        "#Cambridge South"
      ]
    },
    {
      "cell_type": "code",
      "execution_count": null,
      "metadata": {
        "id": "gffozxtaFYgp"
      },
      "outputs": [],
      "source": [
        "#Cambridge North"
      ]
    },
    {
      "cell_type": "code",
      "execution_count": null,
      "metadata": {
        "id": "zkH_FcrQFYjd"
      },
      "outputs": [],
      "source": [
        "#Newcastle W"
      ]
    },
    {
      "cell_type": "code",
      "execution_count": null,
      "metadata": {
        "id": "3Busc0FYFYmJ"
      },
      "outputs": [],
      "source": [
        "#Port Hope E"
      ]
    },
    {
      "cell_type": "code",
      "execution_count": null,
      "metadata": {
        "id": "23GyL9dPFYoy"
      },
      "outputs": [],
      "source": [
        "#Mallory Town South"
      ]
    },
    {
      "cell_type": "code",
      "execution_count": null,
      "metadata": {
        "id": "TO8f4_sWFYrW"
      },
      "outputs": [],
      "source": [
        "#Mallory Town North"
      ]
    },
    {
      "cell_type": "code",
      "execution_count": null,
      "metadata": {
        "id": "VBb__II5FdX0"
      },
      "outputs": [],
      "source": [
        "#Ingleside E"
      ]
    }
  ],
  "metadata": {
    "colab": {
      "provenance": []
    },
    "kernelspec": {
      "display_name": "Python 3",
      "name": "python3"
    },
    "language_info": {
      "codemirror_mode": {
        "name": "ipython",
        "version": 3
      },
      "file_extension": ".py",
      "mimetype": "text/x-python",
      "name": "python",
      "nbconvert_exporter": "python",
      "pygments_lexer": "ipython3",
      "version": "3.9.7"
    }
  },
  "nbformat": 4,
  "nbformat_minor": 0
}
