{
  "nbformat": 4,
  "nbformat_minor": 0,
  "metadata": {
    "colab": {
      "provenance": []
    },
    "kernelspec": {
      "name": "python3",
      "display_name": "Python 3"
    },
    "language_info": {
      "name": "python"
    }
  },
  "cells": [
    {
      "cell_type": "code",
      "execution_count": null,
      "metadata": {
        "id": "ozgIb5pODoW9"
      },
      "outputs": [],
      "source": [
        "import numpy as np #compulsory meth\n",
        "import matplotlib.pyplot as plt #graphing\n",
        "import pandas as pendar #pendar\n",
        "import sklearn as sk #regression\n",
        "import chempy as che #chemistry\n",
        "import scipy as sci #science calculations\n",
        "import pyomo as pyo #optimization\n",
        "import chemicals as cls #chemical properties\n",
        "import ht #heat transfer library\n",
        "\n",
        "\n",
        "# Python HRS - https://www.youtube.com/watch?v=3g301ybQKos\n",
        "\n",
        "#inputs\n",
        "#ambient (P,T), H2 (P,T), energy (kW), Water (kg/s, P, T), H2 (flowrate), controller variables\n",
        "\n",
        "#outputs\n",
        "#H2 (production rate), oxygen (production rate), fluid (P,T)"
      ]
    },
    {
      "cell_type": "code",
      "source": [
        "#def PEM (Gordon, Vincent)\n",
        "#Chemical EQN: H2O -> 1/2 O2 + H2\n",
        "#Nernst EQN, Faraday's Law, Efficiency\n",
        "def calculate_output_PEM(I_in, V_in, H2O_in, Energy_in, H2O_T, H2O_P, eff, R=8.314):\n",
        "    dH2_dT = eff*I_in/(2*F_const) #Hydrogen production mol/s\n",
        "    dO2_dT = dH2_dT/2 #Oxygen production mol/s\n",
        "    dH2O_dT = H2O_in - dH2_dT #Water production mol/s\n",
        "\n",
        "    #cell temperature (vary between -20C to 40C)\n",
        "    Q_net = (I_in**2)*Res_e*t_op - 285830*dH2O_dT #electrolyte resistance heat - heat of reaction (endo)\n",
        "    del_T = Q_net/(H2O_spec_heat*H2O_in*t_op) #per day\n",
        "    Cell_T = Cell_T + del_T #per day\n",
        "\n",
        "    #cell voltage\n",
        "    #E_cell = 1.23-0.0009*(Cell_T-298)+(R*Cell_T/(4*F_const))*np.log((Pv_O2*(Pv_H2)**2)/Pv_H2O) #https://core.ac.uk/download/pdf/52394289.pdf\n",
        "    I_den = I_in/Area\n",
        "    V_cell = 1.23-0.18545*np.log(I_den)-0.10935*(I_den)-(-3.67397)*np.exp(-1.45761e-06)-0.18545*np.log(P/P_O2) #empirical formula from lab A1 Dylan -> can use non ideal gas to find partial P of O2\n",
        "    Pwr_Req = V_cell * I_in #Power requirement\n",
        "\n",
        "    return dH2_dT,dO2_dT,dH2O_dT,Cell_T,Pwr_Req\n",
        "\n",
        "MW_H2 = 1.00794 #Molecular Weight of H2\n",
        "MW_O2 = 31.9988 #Molecular Weight of O2\n",
        "MW_H2O = 18.01528 #Molecular Weight of H2O\n",
        "F_const = 96485.31 #faraday's constant\n",
        "Cell_T = 293.15 #ambient cell temperature at start\n",
        "t_op = 86400 #operation time in seconds of a day\n",
        "Res_e = 1 #resistance of electrolyte\n",
        "H2O_spec_heat = 4.184 #kj/kgK\n",
        "PEM_eff = input(\"What is the efficiency %?: \") #75% according to H-TEC systems\n",
        "OutP_H2 = 25 #Hydrogen output pressure (bar)\n"
      ],
      "metadata": {
        "id": "76XY8m8LEI0h",
        "colab": {
          "base_uri": "https://localhost:8080/"
        },
        "outputId": "ef8a904a-7256-4e33-888c-3b7d4201b7dd"
      },
      "execution_count": null,
      "outputs": [
        {
          "name": "stdout",
          "output_type": "stream",
          "text": [
            "What is the efficiency %?75\n"
          ]
        }
      ]
    },
    {
      "cell_type": "code",
      "source": [
        "#def compressor to 200 bar (Rayan, Anand)\n",
        "#RK equation https://chemicalprojects.wordpress.com/2014/07/06/equations-of-state/\n",
        "#assumed 50°C temp for hydrogen\n",
        "def calculate_rk_constants(Tc, Pc, R=8.314):\n",
        "    \"\"\"\n",
        "    Calculate Redlich-Kwong constants 'a' and 'b' from critical temperature and pressure.\n",
        "\n",
        "    Parameters:\n",
        "    - Tc: Critical temperature in Kelvin\n",
        "    - Pc: Critical pressure in Pascals\n",
        "    - R: Gas constant in J/(mol K)\n",
        "\n",
        "    Returns:\n",
        "    - a: Redlich-Kwong constant 'a' in (Pa m^6/mol^2)\n",
        "    - b: Redlich-Kwong constant 'b' in (m^3/mol)\n",
        "    \"\"\"\n",
        "    a = 0.427 * ((R**2 * Tc_hydrogen**2.5) / Pc_hydrogen)\n",
        "    b = 0.08664 * (R * Tc_hydrogen / Pc_hydrogen)\n",
        "    return a, b\n",
        "def calculate_compressibility_factor(P, V, T, R=8.314):\n",
        "    \"\"\"\n",
        "    Calculate compressibility factor using the Redlich-Kwong equation.\n",
        "\n",
        "    Parameters:\n",
        "    - P: Pressure in Pascals\n",
        "    - V: Molar volume in m^3/mol\n",
        "    - T: Temperature in Kelvin\n",
        "    - R: Gas constant in J/(mol K)\n",
        "\n",
        "    Returns:\n",
        "    - Z: Compressibility factor\n",
        "    \"\"\"\n",
        "    virialB = 14.87        #assumed 50°C temp for hydrogen https://www.ncbi.nlm.nih.gov/pmc/articles/PMC5325166/\n",
        "    virialC = 340          #assumed 50°C temp for hydrogen\n",
        "    Bprime = virialB/(R*T)\n",
        "    Cprime = (virialC-Bprime**2)/(R*T)**2\n",
        "    #Z = 1 + Bprime*P + P**2*Cprime\n",
        "    Z = (P*V_hydrogen)/(R*T_hydrogen)\n",
        "    return Z\n",
        "\n",
        "\n",
        "def compressour_output(T1, P1, P2_output, R_H2_gas, V_H2,eta_isentropic,Tc_hydrogen, Pc_hydrogen):\n",
        "  # isentropic compression\n",
        "  # Calculate RK constants for hydrogen\n",
        "  a_hydrogen, b_hydrogen = calculate_rk_constants(Tc_hydrogen, Pc_hydrogen)\n",
        "\n",
        "  # Calculate compressibility factor\n",
        "  Z_inlet = calculate_compressibility_factor(P1, V_H2, T1)\n",
        "\n",
        "  # isentropic outlet conditions\n",
        "  V2_isentropic = 1 / Z_inlet * (P2_output / P1)\n",
        "\n",
        "  # Actual volume using isentropic efficiency\n",
        "  V2_actual = V2_isentropic + eta_isentropic * (V2_isentropic - 1)\n",
        "\n",
        "  # Actualoutlet temperature and pressure\n",
        "  T2_actual = T1 * (V2_isentropic / V2_actual)\n",
        "  P2_actual = R_H2_gas * T2_actual / V2_actual - a_hydrogen / (V2_actual * (R_H2_gas * T2_actual) ** 0.5)\n",
        "\n",
        "  return T2_actual, P2_actual"
      ],
      "metadata": {
        "id": "L-II7FHyELa2"
      },
      "execution_count": null,
      "outputs": []
    },
    {
      "cell_type": "code",
      "source": [
        "# Given conditions\n",
        "T_hydrogen = 273.15 + 45  # Inlet to compressor (Temperature in Kelvin)\n",
        "Tc_hydrogen = 33            # Critical temperature in Kelvin\n",
        "Pc_hydrogen = 189*6895      # Critical Pressure in Pa\n",
        "R_hydrogen = 4124  # Gas constant for hydrogen, J/(mol K)\n",
        "eta_isentropic_assumed = 0.8  # Assume isentropic efficiency: can be 0.7 to 0.8\n",
        "P_hydrogen = 25*100000     # Inlet Pressure in Pa (25 bar)\n",
        "P_hydrogenatm = 25/1.013     # Inlet Pressure in atm\n",
        "R = 0.08206 # L * atm / mol * K\n",
        "V_hydrogen = ((T_hydrogen*R)/(P_hydrogenatm))/1000     # Molar volume in m^3/mol\n",
        "\n",
        "# Calculate RK constants for hydrogen\n",
        "a_hydrogen, b_hydrogen = calculate_rk_constants(Tc_hydrogen, Pc_hydrogen)\n",
        "\n",
        "# Calculate compressibility factor\n",
        "Z_hydrogen = calculate_compressibility_factor(P_hydrogen, V_hydrogen, T_hydrogen)\n",
        "\n",
        "# compressor outputs\n",
        "#T_output_comp1, P_output_comp1 = compressour_output(T_hydrogen, OutP_H2*100000, 200*100000, R_hydrogen, V_H2, eta_isentropic_assumed,Tc_hydrogen, Pc_hydrogen) # what would be desired outlet hydrogen pressure? 200 bar?\n",
        "\n",
        "print(f\"Compressibility Factor for Hydrogen (Z): {Z_hydrogen}\")\n",
        "print(f\"Redlich-Kwong constants for Hydrogen - a: {a_hydrogen}, b: {b_hydrogen}\")\n",
        "#print(f\"Compressor outlet conditions - T: {T_output_comp1}, P: {P_output_comp1}\")"
      ],
      "metadata": {
        "id": "VrVvmETZLBvq",
        "colab": {
          "base_uri": "https://localhost:8080/"
        },
        "outputId": "a4173b39-71d3-4c82-f2c7-7422e2b804e1"
      },
      "execution_count": null,
      "outputs": [
        {
          "output_type": "stream",
          "name": "stdout",
          "text": [
            "Compressibility Factor for Hydrogen (Z): 0.9998409910993504\n",
            "Redlich-Kwong constants for Hydrogen - a: 0.14168918113229173, b: 1.824090279360475e-05\n"
          ]
        }
      ]
    },
    {
      "cell_type": "code",
      "source": [
        "#compressor to transport ratio split"
      ],
      "metadata": {
        "id": "J4l-thR5EPgK"
      },
      "execution_count": null,
      "outputs": []
    },
    {
      "cell_type": "code",
      "source": [
        "#Transportation"
      ],
      "metadata": {
        "id": "1xQH-7wvFTrR"
      },
      "execution_count": null,
      "outputs": []
    },
    {
      "cell_type": "code",
      "source": [
        "#Cascading"
      ],
      "metadata": {
        "id": "9EzB8vspET5L"
      },
      "execution_count": null,
      "outputs": []
    },
    {
      "cell_type": "code",
      "source": [
        "#Heat Exchanger"
      ],
      "metadata": {
        "id": "Nsn3gOfBEYK-"
      },
      "execution_count": null,
      "outputs": []
    },
    {
      "cell_type": "code",
      "source": [
        "#Nozzle"
      ],
      "metadata": {
        "id": "qAap6sGmEae1"
      },
      "execution_count": null,
      "outputs": []
    },
    {
      "cell_type": "code",
      "source": [
        "#Tilbury South"
      ],
      "metadata": {
        "id": "FRj0IUl1FXw5"
      },
      "execution_count": null,
      "outputs": []
    },
    {
      "cell_type": "code",
      "source": [
        "#Tilbury North"
      ],
      "metadata": {
        "id": "98c9xpIkFYM6"
      },
      "execution_count": null,
      "outputs": []
    },
    {
      "cell_type": "code",
      "source": [
        "#Ingersoll W"
      ],
      "metadata": {
        "id": "i-TCb6dvFYVS"
      },
      "execution_count": null,
      "outputs": []
    },
    {
      "cell_type": "code",
      "source": [
        "#Woodstock E"
      ],
      "metadata": {
        "id": "ZbuLJ4M2FYa5"
      },
      "execution_count": null,
      "outputs": []
    },
    {
      "cell_type": "code",
      "source": [
        "#Cambridge South"
      ],
      "metadata": {
        "id": "ZsA1zpMEFYdx"
      },
      "execution_count": null,
      "outputs": []
    },
    {
      "cell_type": "code",
      "source": [
        "#Cambridge North"
      ],
      "metadata": {
        "id": "gffozxtaFYgp"
      },
      "execution_count": null,
      "outputs": []
    },
    {
      "cell_type": "code",
      "source": [
        "#Newcastle W"
      ],
      "metadata": {
        "id": "zkH_FcrQFYjd"
      },
      "execution_count": null,
      "outputs": []
    },
    {
      "cell_type": "code",
      "source": [
        "#Port Hope E"
      ],
      "metadata": {
        "id": "3Busc0FYFYmJ"
      },
      "execution_count": null,
      "outputs": []
    },
    {
      "cell_type": "code",
      "source": [
        "#Mallory Town South"
      ],
      "metadata": {
        "id": "23GyL9dPFYoy"
      },
      "execution_count": null,
      "outputs": []
    },
    {
      "cell_type": "code",
      "source": [
        "#Mallory Town North"
      ],
      "metadata": {
        "id": "TO8f4_sWFYrW"
      },
      "execution_count": null,
      "outputs": []
    },
    {
      "cell_type": "code",
      "source": [
        "#Ingleside E"
      ],
      "metadata": {
        "id": "VBb__II5FdX0"
      },
      "execution_count": null,
      "outputs": []
    }
  ]
}